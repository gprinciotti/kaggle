{
 "cells": [
  {
   "cell_type": "code",
   "execution_count": null,
   "metadata": {},
   "outputs": [],
   "source": [
    "import sys\n",
    "sys.path.append('../src')"
   ]
  },
  {
   "cell_type": "code",
   "execution_count": null,
   "metadata": {},
   "outputs": [],
   "source": [
    "import pandas as pd\n",
    "import numpy as np\n",
    "from utils import quick_eda\n",
    "\n",
    "df_train = pd.read_csv('../data/playground-series-s5e4/train.csv')\n",
    "quick_eda(df_train)"
   ]
  },
  {
   "cell_type": "code",
   "execution_count": null,
   "metadata": {},
   "outputs": [],
   "source": [
    "import matplotlib.pyplot as plt\n",
    "\n",
    "df_train['Episode_Index'] = df_train['Episode_Title'].str.extract(r'(\\d+)').astype(int)\n",
    "\n",
    "grouped_df = (\n",
    "    df_train\n",
    "    .groupby('Episode_Index', as_index=False)\n",
    "    .agg({'Listening_Time_minutes': 'mean'})\n",
    ")\n",
    "\n",
    "plt.figure(figsize=(15, 5))\n",
    "plt.plot(grouped_df['Episode_Index'], grouped_df['Listening_Time_minutes'])\n",
    "plt.xlabel('Episode number')\n",
    "plt.ylabel('Listening time (in minutes)')\n",
    "plt.ylim(35, 55)\n",
    "plt.grid()\n",
    "plt.show()"
   ]
  },
  {
   "cell_type": "code",
   "execution_count": null,
   "metadata": {},
   "outputs": [],
   "source": [
    "from sklearn.model_selection import train_test_split\n",
    "\n",
    "x = df_train.drop(columns=['id', 'Episode_Title', 'Episode_Index', 'Listening_Time_minutes'])\n",
    "y = df_train['Listening_Time_minutes']\n",
    "\n",
    "x_train, x_valid, y_train, y_valid = train_test_split(x, y, test_size=0.2, random_state=42)\n",
    "\n",
    "print(f'Treino: {x_train.shape}')\n",
    "print(f'Validação: {x_valid.shape}')"
   ]
  },
  {
   "cell_type": "code",
   "execution_count": null,
   "metadata": {},
   "outputs": [],
   "source": [
    "from sklearn.pipeline import Pipeline\n",
    "from sklearn.compose import ColumnTransformer\n",
    "from sklearn.preprocessing import TargetEncoder, OneHotEncoder\n",
    "from sklearn.base import BaseEstimator, TransformerMixin, OneToOneFeatureMixin\n",
    "from sklearn.ensemble import RandomForestRegressor\n",
    "from sklearn.model_selection import RandomizedSearchCV\n",
    "from sklearn.metrics import root_mean_squared_error\n",
    "from scipy.stats import uniform, randint\n",
    "\n",
    "class GroupImputer(OneToOneFeatureMixin, BaseEstimator, TransformerMixin):\n",
    "    def __init__(self, group_col, impute_cols):\n",
    "        self.group_col = group_col\n",
    "        self.impute_cols = impute_cols\n",
    "        self.group_means = None\n",
    "        self.overall_means = None\n",
    "\n",
    "    def fit(self, X, y=None):\n",
    "        X = pd.DataFrame(X, columns=[self.group_col] + self.impute_cols)\n",
    "        self.group_means = X.groupby(self.group_col)[self.impute_cols].mean()\n",
    "        self.overall_means = X[self.impute_cols].mean()\n",
    "        return self\n",
    "\n",
    "    def transform(self, X):\n",
    "        X = pd.DataFrame(X, columns=[self.group_col] + self.impute_cols)\n",
    "        for col in self.impute_cols:\n",
    "            X[col] = X[col].fillna(X[self.group_col].map(self.group_means[col]).fillna(self.overall_means[col]))\n",
    "        return X[self.impute_cols]\n",
    "\n",
    "preprocessor = ColumnTransformer(\n",
    "    [\n",
    "        (\n",
    "            'target_encoding', \n",
    "            TargetEncoder(target_type='continuous'),\n",
    "            ['Podcast_Name']\n",
    "        ),\n",
    "        (\n",
    "            'onehot_encoding',\n",
    "            OneHotEncoder(handle_unknown='ignore', sparse_output=False),\n",
    "            ['Genre', 'Publication_Day', 'Publication_Time', 'Episode_Sentiment']\n",
    "        ),\n",
    "        (\n",
    "            'missing_imputation',\n",
    "            GroupImputer(group_col='Podcast_Name', impute_cols=['Episode_Length_minutes', 'Guest_Popularity_percentage', 'Number_of_Ads']), \n",
    "            ['Podcast_Name', 'Episode_Length_minutes', 'Guest_Popularity_percentage', 'Number_of_Ads']\n",
    "        )\n",
    "    ],\n",
    "    remainder='passthrough'\n",
    ")\n",
    "\n",
    "pipeline = Pipeline([\n",
    "    ('preprocessor', preprocessor),\n",
    "    ('regressor', RandomForestRegressor(random_state=42))\n",
    "])\n",
    "\n",
    "param_grid = {\n",
    "    'regressor__n_estimators': randint(150, 201),\n",
    "    'regressor__max_depth': randint(4, 9),\n",
    "    'regressor__min_samples_split': randint(2, 5),\n",
    "    'regressor__min_samples_leaf': randint(1, 4),\n",
    "    'regressor__max_features': ['sqrt', 'log2', None]\n",
    "}\n",
    "\n",
    "grid_search = RandomizedSearchCV(\n",
    "    estimator=pipeline,\n",
    "    param_distributions=param_grid,\n",
    "    n_iter=50,\n",
    "    scoring='neg_root_mean_squared_error',\n",
    "    cv=5,\n",
    "    n_jobs=-1,\n",
    "    verbose=1,\n",
    "    random_state=42\n",
    ")\n",
    "\n",
    "grid_search.fit(x_train, y_train)\n",
    "\n",
    "y_pred = grid_search.predict(x_valid)\n",
    "score = root_mean_squared_error(y_valid, y_pred)\n",
    "\n",
    "print(f'RMSE (validação): {score:.4f}')"
   ]
  },
  {
   "cell_type": "code",
   "execution_count": null,
   "metadata": {},
   "outputs": [],
   "source": [
    "df_train['Episode_Number'] = df_train['Episode_Title'].str.extract(r'(\\d+)').astype(int)\n",
    "df_train['Episode_Length_minutes'] = df_train.groupby('Podcast_Name')['Episode_Length_minutes'].transform(lambda x: x.fillna(x.mean()))\n",
    "df_train['Genre_encoded'] = df_train.groupby('Genre')['Listening_Time_minutes'].transform('mean')"
   ]
  },
  {
   "cell_type": "code",
   "execution_count": null,
   "metadata": {},
   "outputs": [],
   "source": [
    "quick_eda(x_train)"
   ]
  }
 ],
 "metadata": {
  "kernelspec": {
   "display_name": ".venv",
   "language": "python",
   "name": "python3"
  },
  "language_info": {
   "codemirror_mode": {
    "name": "ipython",
    "version": 3
   },
   "file_extension": ".py",
   "mimetype": "text/x-python",
   "name": "python",
   "nbconvert_exporter": "python",
   "pygments_lexer": "ipython3",
   "version": "3.13.2"
  }
 },
 "nbformat": 4,
 "nbformat_minor": 2
}
